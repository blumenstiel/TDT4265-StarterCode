{
 "cells": [
  {
   "cell_type": "markdown",
   "metadata": {},
   "source": [
    "# Assignment 1 Report"
   ]
  },
  {
   "cell_type": "markdown",
   "metadata": {},
   "source": [
    "This is an outline for your report to ease the amount of work required to create your report. Jupyter notebook supports markdown, and I recommend you to check out this [cheat sheet](https://github.com/adam-p/markdown-here/wiki/Markdown-Cheatsheet). If you are not familiar with markdown.\n",
    "\n",
    "Before delivery, **remember to convert this file to PDF**. You can do it in two ways:\n",
    "1. Print the webpage (ctrl+P or cmd+P)\n",
    "2. Export with latex. This is somewhat more difficult, but you'll get somehwat of a \"prettier\" PDF. Go to File -> Download as -> PDF via LaTeX. You might have to install nbconvert and pandoc through conda; `conda install nbconvert pandoc`."
   ]
  },
  {
   "cell_type": "markdown",
   "metadata": {},
   "source": [
    "# Task 1"
   ]
  },
  {
   "cell_type": "markdown",
   "metadata": {},
   "source": [
    "## task 1a)\n",
    "\n",
    "Fill in image of hand-written notes which are easy to read, or latex equations here"
   ]
  },
  {
   "cell_type": "markdown",
   "metadata": {},
   "source": [
    "## task 1b)\n",
    "\n",
    "Fill in image of hand-written notes which are easy to read, or latex equations here\n",
    "\n",
    "## task 1c)\n",
    "\n",
    "Fill in task 1a image of hand-written notes which are easy to read, or latex equations here\n"
   ]
  },
  {
   "cell_type": "markdown",
   "metadata": {},
   "source": [
    "# Task 2\n",
    "\n",
    "### Task 2f)\n"
   ]
  },
  {
   "cell_type": "markdown",
   "metadata": {},
   "source": [
    "# Task 3"
   ]
  },
  {
   "cell_type": "markdown",
   "metadata": {
    "pycharm": {
     "name": "#%% md\n"
    }
   },
   "source": [
    "### Task 3a)\n",
    "This filtering operation is called non-maximum suppression (nms).\n",
    "\n",
    "### Task 3b)\n",
    "It is false: deeper layers are lower resolution layers. Therefore, SSD uses them to detect large scale objects.\n",
    "On the contrary, higher resolution feature maps are responsible for detecting small objects.\n",
    "\n",
    "### Task 3c)\n",
    "They use different bounding box aspect ratios at the same spatial location because we want our predictions to be diverse and\n",
    "not looking similar. If our predictions are more various and cover more shapes, our model can detect more object types.\n",
    "Also, the fact is in real-life, boundary boxes do not have arbitrary shapes and sizes, so we have to cover more possible\n",
    "cases. For example, the shape of a car and a cyclist is different, so even if they are at the same spatial location on two different pictures, if we only consider one shape\n",
    "of bounding box, we can only detect either the cyclist or the car. Considering only one shape of bounding box detects\n",
    "the objects with this specific shape, but the other objects are not detected because of their different shapes.\n",
    "\n",
    "\n",
    "### Task 3d)\n",
    "SSD model adds several convolutional feature layers to the end of a base network. These layers decrease in size\n",
    "progressively and allow predictions of detections at multiple scales and aspect ratios.\n",
    "Instead of adding convolutional layers, YOLO operates on a single scale feature map, it uses an intermediate fully\n",
    "connected layer. These two models do not use the same type of layers after the base network.\n",
    "\n",
    "### Task 3e)\n",
    "We have in total $38 \\times 38 \\times 6 = 8664$ anchors boxes for this feature map.\n",
    "\n",
    "### Task 3f)\n",
    "We have in total $(38 \\times 38 + 19 \\times 19 + 10 \\times 10 + 5 \\times 5 + 3 \\times 3 + 1 \\times 1) \\times 6 = 11 640$\n",
    "anchors boxes for the entire network.\n"
   ]
  }
 ],
 "metadata": {
  "kernelspec": {
   "display_name": "Python 3.8.1 64-bit ('py38': conda)",
   "language": "python",
   "name": "python38164bitpy38condac1f68ca5407a4349b0d7e37676f2fbb3"
  },
  "language_info": {
   "codemirror_mode": {
    "name": "ipython",
    "version": 3
   },
   "file_extension": ".py",
   "mimetype": "text/x-python",
   "name": "python",
   "nbconvert_exporter": "python",
   "pygments_lexer": "ipython3",
   "version": "3.8.1"
  }
 },
 "nbformat": 4,
 "nbformat_minor": 4
}